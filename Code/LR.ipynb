{
 "cells": [
  {
   "cell_type": "code",
   "execution_count": 20,
   "id": "189512f1",
   "metadata": {},
   "outputs": [],
   "source": [
    "import pandas as pd\n",
    "from sklearn.model_selection import train_test_split\n",
    "from sklearn.metrics import accuracy_score\n",
    "from sklearn.linear_model import LogisticRegression\n",
    "import matplotlib.pyplot as plt\n",
    "from sklearn.preprocessing import KBinsDiscretizer, StandardScaler\n",
    "import numpy as np\n",
    "\n",
    "from sklearn.metrics import confusion_matrix, ConfusionMatrixDisplay\n"
   ]
  },
  {
   "cell_type": "code",
   "execution_count": 42,
   "id": "02cacd7a",
   "metadata": {},
   "outputs": [],
   "source": [
    "df_test = pd.read_csv(r\"C:\\Users\\Rein\\Documents\\AIyear3\\Thesis\\HPO\\diabetes\\randomforest\\diabetes_MD_randomforest_test.csv\", header=0, sep=';')\n",
    "X_test = df_test.drop(columns=['value'])\n",
    "X_test = pd.get_dummies(X_test, drop_first=True)\n",
    "y_test = df_test['value']\n",
    "\n",
    "df_train = pd.read_csv(r\"C:\\Users\\Rein\\Documents\\AIyear3\\Thesis\\HPO\\diabetes\\randomforest\\diabetes_MD_randomforest_train.csv\", header=0, sep=';')\n",
    "X_train = df_train.drop(columns=['value'])\n",
    "X_train = pd.get_dummies(X_train, drop_first=True)\n",
    "y_train = df_train['value']\n"
   ]
  },
  {
   "cell_type": "code",
   "execution_count": 43,
   "id": "efd1a4da",
   "metadata": {},
   "outputs": [
    {
     "name": "stdout",
     "output_type": "stream",
     "text": [
      "Accuracy is:  0.6161616161616161\n"
     ]
    }
   ],
   "source": [
    "#Linear regression\n",
    "rgr = LogisticRegression(class_weight='balanced').fit(X_train, y_train)\n",
    "accuracy_randomforest = accuracy_score(y_test, rgr.predict(X_test))\n",
    "print(\"Accuracy is: \", accuracy_randomforest)"
   ]
  }
 ],
 "metadata": {
  "kernelspec": {
   "display_name": "Python (myenv)",
   "language": "python",
   "name": "myenv"
  },
  "language_info": {
   "codemirror_mode": {
    "name": "ipython",
    "version": 3
   },
   "file_extension": ".py",
   "mimetype": "text/x-python",
   "name": "python",
   "nbconvert_exporter": "python",
   "pygments_lexer": "ipython3",
   "version": "3.11.9"
  }
 },
 "nbformat": 4,
 "nbformat_minor": 5
}
