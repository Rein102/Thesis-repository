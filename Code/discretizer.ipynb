{
 "cells": [
  {
   "cell_type": "code",
   "execution_count": 1,
   "id": "64d56e7d",
   "metadata": {},
   "outputs": [],
   "source": [
    "import pandas as pd\n",
    "from sklearn.model_selection import train_test_split\n",
    "from sklearn.metrics import mean_absolute_error, mean_squared_error, r2_score, root_mean_squared_error\n",
    "from sklearn.metrics import accuracy_score\n",
    "from sklearn.tree import DecisionTreeClassifier, plot_tree\n",
    "from sklearn.linear_model import LogisticRegression\n",
    "import matplotlib.pyplot as plt\n",
    "from sklearn.preprocessing import KBinsDiscretizer\n",
    "from sklearn.metrics import confusion_matrix, ConfusionMatrixDisplay\n",
    "\n"
   ]
  },
  {
   "cell_type": "code",
   "execution_count": null,
   "id": "640ae4ea",
   "metadata": {},
   "outputs": [],
   "source": [
    "\n",
    "import pandas as pd\n",
    "df = pd.read_csv(r\"C:\\Users\\Rein\\Documents\\AIyear3\\Thesis\\HPO\\heart\\lr\\heart_MD_MLP.csv\", header=0, sep=';')\n",
    "\n",
    "\n",
    "\n",
    "\n",
    "\n",
    "discretizer = KBinsDiscretizer(n_bins=3, encode='ordinal', strategy='quantile')\n",
    "# df['value'] = discretizer.fit_transform(df[['value']]).astype(int)\n",
    "\n",
    "discretizer_value = KBinsDiscretizer(n_bins=3, encode='ordinal', strategy='uniform')\n",
    "discretizer_value.fit(df[['value']])  # Fit only once and reuse\n",
    "\n",
    "# Transform using fitted discretizer\n",
    "df['value'] = discretizer_value.transform(df[['value']]).astype(int)\n",
    "\n",
    "# Print bin edges\n",
    "bin_edges = discretizer_value.bin_edges_[0]\n",
    "print(\"Bin edges for 'value':\", bin_edges)\n",
    "\n",
    "# Optional: map bin labels\n",
    "labels = ['Low', 'Medium', 'High']\n",
    "df['value'] = df['value'].map(dict(enumerate(labels)))\n",
    "\n",
    "df['params_alpha'] = discretizer.fit_transform(df[['params_alpha']]).astype(int)\n",
    "df['params_hidden_layer_sizes'] = discretizer.fit_transform(df[['params_hidden_layer_sizes']]).astype(int)\n",
    "df['params_max_iter'] = discretizer.fit_transform(df[['params_max_iter']]).astype(int)\n",
    "# df['params_min_samples_split'] = discretizer.fit_transform(df[['params_min_samples_split']]).astype(int)\n",
    "# df['params_n_estimators'] = discretizer.fit_transform(df[['params_n_estimators']]).astype(int)\n",
    "# df['params_max_features'] = df['params_max_features'].fillna('None')\n",
    "\n",
    "# labels = ['Low', 'Medium', 'High']\n",
    "\n",
    "# df['value'] = df['value'].map(dict(enumerate(labels)))\n",
    "df.to_csv(r\"C:\\Users\\Rein\\Documents\\AIyear3\\Thesis\\HPO\\fraud\\MLP\\fraud_MD_MLP_discretized.csv\", index=False, sep=';')\n",
    "X = df.drop(columns=['value'])\n",
    "X_encoded = pd.get_dummies(X, drop_first=True)\n",
    "\n",
    "y = df['value']\n",
    "\n",
    "print(X_encoded.columns)\n",
    "\n"
   ]
  },
  {
   "cell_type": "code",
   "execution_count": null,
   "id": "6cff8c78",
   "metadata": {},
   "outputs": [],
   "source": []
  }
 ],
 "metadata": {
  "kernelspec": {
   "display_name": "Python (myenv)",
   "language": "python",
   "name": "myenv"
  },
  "language_info": {
   "codemirror_mode": {
    "name": "ipython",
    "version": 3
   },
   "file_extension": ".py",
   "mimetype": "text/x-python",
   "name": "python",
   "nbconvert_exporter": "python",
   "pygments_lexer": "ipython3",
   "version": "3.11.9"
  }
 },
 "nbformat": 4,
 "nbformat_minor": 5
}
